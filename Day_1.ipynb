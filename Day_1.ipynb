{
  "nbformat": 4,
  "nbformat_minor": 0,
  "metadata": {
    "colab": {
      "provenance": []
    },
    "kernelspec": {
      "name": "python3",
      "display_name": "Python 3"
    },
    "language_info": {
      "name": "python"
    }
  },
  "cells": [
    {
      "cell_type": "code",
      "execution_count": 3,
      "metadata": {
        "colab": {
          "base_uri": "https://localhost:8080/"
        },
        "id": "DIF-c74y7RZ6",
        "outputId": "f676a865-3218-41b7-a9a2-d4a1a806f373"
      },
      "outputs": [
        {
          "output_type": "stream",
          "name": "stdout",
          "text": [
            "Overwriting vector_add.cu\n"
          ]
        }
      ],
      "source": [
        "%%writefile vector_add.cu\n",
        "\n",
        "#include <iostream>\n",
        "#include <cmath> // Include for ceil\n",
        "#include <stdio.h> // Include for printf\n",
        "\n",
        "__global__ void vectorAdd(const float* A, const float* B, float* C, int N) {\n",
        "    int i = blockIdx.x * blockDim.x + threadIdx.x;\n",
        "    if (i < N) {\n",
        "        C[i] = A[i] + B[i];\n",
        "    }\n",
        "}\n",
        "\n",
        "int main() {\n",
        "    const int N = 10;\n",
        "    float A[N], B[N], C[N];\n",
        "\n",
        "    // Initialize host arrays\n",
        "    for (int i = 0; i < N; ++i) {\n",
        "        A[i] = i;\n",
        "        B[i] = i * 2;\n",
        "    }\n",
        "\n",
        "    printf(\"Input A:\\n\");\n",
        "    for (int i = 0; i < N; ++i) {\n",
        "        printf(\"%f \", A[i]);\n",
        "    }\n",
        "    printf(\"\\n\");\n",
        "\n",
        "    printf(\"Input B:\\n\");\n",
        "    for (int i = 0; i < N; ++i) {\n",
        "        printf(\"%f \", B[i]);\n",
        "    }\n",
        "    printf(\"\\n\");\n",
        "\n",
        "    float *d_a, *d_b,*d_c;\n",
        "    cudaMalloc(&d_a,N*sizeof(float));\n",
        "    cudaMalloc(&d_b,N*sizeof(float));\n",
        "    cudaMalloc(&d_c,N*sizeof(float));\n",
        "    cudaMemcpy(d_a,A,N*sizeof(float),cudaMemcpyHostToDevice);\n",
        "    cudaMemcpy(d_b,B,N*sizeof(float),cudaMemcpyHostToDevice);\n",
        "    int blocksize=256;\n",
        "    int gridsize=ceil((float)N/blocksize); // Use float for division\n",
        "    vectorAdd<<<gridsize,blocksize>>>(d_a,d_b,d_c,N);\n",
        "    cudaMemcpy(C,d_c,N*sizeof(float),cudaMemcpyDeviceToHost);\n",
        "\n",
        "    printf(\"Output C:\\n\");\n",
        "    for (int i = 0; i < N; ++i) {\n",
        "        printf(\"%f \", C[i]);\n",
        "    }\n",
        "    printf(\"\\n\");\n",
        "\n",
        "    cudaFree(d_a);\n",
        "    cudaFree(d_b);\n",
        "    cudaFree(d_c);\n",
        "\n",
        "    return 0; // Add return 0\n",
        "}"
      ]
    },
    {
      "cell_type": "code",
      "source": [
        "# Compile with the specified architecture\n",
        "!nvcc vector_add.cu -o vector_add -gencode arch=compute_75,code=sm_75\n",
        "\n",
        "# Run the executable\n",
        "!./vector_add"
      ],
      "metadata": {
        "colab": {
          "base_uri": "https://localhost:8080/"
        },
        "id": "KhRooHS77lDL",
        "outputId": "ff697ab9-b00e-47ab-8394-82fd8f8b726a"
      },
      "execution_count": 4,
      "outputs": [
        {
          "output_type": "stream",
          "name": "stdout",
          "text": [
            "Input A:\n",
            "0.000000 1.000000 2.000000 3.000000 4.000000 5.000000 6.000000 7.000000 8.000000 9.000000 \n",
            "Input B:\n",
            "0.000000 2.000000 4.000000 6.000000 8.000000 10.000000 12.000000 14.000000 16.000000 18.000000 \n",
            "Output C:\n",
            "0.000000 0.000000 0.000000 0.000000 0.000000 0.000000 0.000000 0.000000 0.000000 0.000000 \n"
          ]
        }
      ]
    }
  ]
}